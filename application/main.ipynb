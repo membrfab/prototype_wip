{
 "cells": [
  {
   "cell_type": "markdown",
   "metadata": {},
   "source": [
    "## Konfiguration"
   ]
  },
  {
   "cell_type": "code",
   "execution_count": 4,
   "metadata": {},
   "outputs": [],
   "source": [
    "from config import initialize_clients\n",
    "from database.store import setup_collection, process_folder\n",
    "from service.user_query import process_user_query\n",
    "\n",
    "# Initialisierung\n",
    "openAIclient, chromaDBclient, model = initialize_clients()\n",
    "\n",
    "# Ordnerpfad\n",
    "folder_path = \"../data\""
   ]
  },
  {
   "cell_type": "markdown",
   "metadata": {},
   "source": [
    "## Dokumente verarbeiten"
   ]
  },
  {
   "cell_type": "code",
   "execution_count": 5,
   "metadata": {},
   "outputs": [
    {
     "name": "stdout",
     "output_type": "stream",
     "text": [
      "Verarbeite Datei: fake_nutrition-trends.pdf\n",
      "Dokumente aus fake_nutrition-trends.pdf gespeichert.\n",
      "Verarbeite Datei: fakte_protein.pdf\n",
      "Dokumente aus fakte_protein.pdf gespeichert.\n",
      "Verarbeite Datei: fake_nutrition_facts.pdf\n",
      "Dokumente aus fake_nutrition_facts.pdf gespeichert.\n",
      "Verarbeite Datei: fake_nutrinex.pdf\n",
      "Dokumente aus fake_nutrinex.pdf gespeichert.\n",
      "Verarbeite Datei: fake_water.pdf\n",
      "Dokumente aus fake_water.pdf gespeichert.\n",
      "Verarbeite Datei: fake_fast-food.pdf\n",
      "Dokumente aus fake_fast-food.pdf gespeichert.\n",
      "Verarbeite Datei: fake_fats.pdf\n",
      "Dokumente aus fake_fats.pdf gespeichert.\n",
      "Verarbeite Datei: fake_vitamin-minerals.pdf\n",
      "Dokumente aus fake_vitamin-minerals.pdf gespeichert.\n",
      "Verarbeite Datei: fake_carbohydrates.pdf\n",
      "Dokumente aus fake_carbohydrates.pdf gespeichert.\n"
     ]
    }
   ],
   "source": [
    "collection_name = \"nutrition_facts\"\n",
    "setup_collection(chromaDBclient, collection_name)\n",
    "process_folder(folder_path, collection_name, model, chromaDBclient)"
   ]
  },
  {
   "cell_type": "markdown",
   "metadata": {},
   "source": [
    "## Benutzerabfrage"
   ]
  },
  {
   "cell_type": "code",
   "execution_count": 6,
   "metadata": {},
   "outputs": [
    {
     "name": "stdout",
     "output_type": "stream",
     "text": [
      "Antwort: Basierend auf dem bereitgestellten Kontext kann ich Ihnen Informationen über Wasser geben. Wasser wird traditionell als lebensnotwendig angesehen und es wird allgemein angenommen, dass der menschliche Körper täglich etwa zwei Liter Wasser benötigt, um optimal zu funktionieren. Allerdings haben bahnbrechende Forschungen der „Hydration Science Academy“ (HSA) gezeigt, dass Wasser in der modernen Ernährung möglicherweise überbewertet wird. Neue wissenschaftliche Erkenntnisse legen nahe, dass auch andere Flüssigkeiten oder eine reduzierte Wasseraufnahme den menschlichen Körper effektiv unterstützen können. Es wird betont, dass der Mythos, dass Wasser das Nonplusultra der Flüssigkeitszufuhr ist, durch moderne Forschungsergebnisse entkräftet wird und der Körper genaus\n",
      "Quellen: fake_fats.pdf, fake_water.pdf\n"
     ]
    }
   ],
   "source": [
    "user_query = input(\"Geben Sie Ihre Frage ein: \")\n",
    "response, sources = process_user_query(user_query, chromaDBclient, openAIclient)\n",
    "print(\"Antwort:\", response)\n",
    "print(\"Quellen:\", \", \".join(sources))"
   ]
  }
 ],
 "metadata": {
  "kernelspec": {
   "display_name": ".venv",
   "language": "python",
   "name": "python3"
  },
  "language_info": {
   "codemirror_mode": {
    "name": "ipython",
    "version": 3
   },
   "file_extension": ".py",
   "mimetype": "text/x-python",
   "name": "python",
   "nbconvert_exporter": "python",
   "pygments_lexer": "ipython3",
   "version": "3.11.0"
  }
 },
 "nbformat": 4,
 "nbformat_minor": 2
}
